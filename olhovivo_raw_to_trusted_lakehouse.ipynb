{
 "cells": [
  {
   "cell_type": "code",
   "execution_count": 1,
   "id": "5051feeb-1e53-4fc9-9ca6-f73d557e1c63",
   "metadata": {},
   "outputs": [],
   "source": [
    "from pyspark.sql.functions import col\n",
    "from pyspark.sql import SparkSession\n",
    "from delta.tables import *\n",
    "import datetime\n",
    "import pytz\n",
    "\n",
    "spark = (\n",
    "    SparkSession\n",
    "    .builder\n",
    "    .appName('Lakehouse_OlhoVivo_Raw_To_Trusted')\n",
    "    .config('spark.sql.extensions','oi.delta.DeltaSparkSessionExtension')\n",
    "    .config('spark.sql.catalog.spark_catalog', 'org.apache.spark.sql.delta.catalog.DeltaCatalog')\n",
    "    .getOrCreate()\n",
    ")"
   ]
  },
  {
   "cell_type": "code",
   "execution_count": 2,
   "id": "eb2b808e-bb30-4cd8-8107-7d52c1b2ce8d",
   "metadata": {
    "tags": []
   },
   "outputs": [
    {
     "data": {
      "text/html": [
       "\n",
       "            <div>\n",
       "                <p><b>SparkSession - in-memory</b></p>\n",
       "                \n",
       "        <div>\n",
       "            <p><b>SparkContext</b></p>\n",
       "\n",
       "            <p><a href=\"http://spark-master:4040\">Spark UI</a></p>\n",
       "\n",
       "            <dl>\n",
       "              <dt>Version</dt>\n",
       "                <dd><code>v3.3.1</code></dd>\n",
       "              <dt>Master</dt>\n",
       "                <dd><code>local[*]</code></dd>\n",
       "              <dt>AppName</dt>\n",
       "                <dd><code>Lakehouse_OlhoVivo_Raw_To_Trusted</code></dd>\n",
       "            </dl>\n",
       "        </div>\n",
       "        \n",
       "            </div>\n",
       "        "
      ],
      "text/plain": [
       "<pyspark.sql.session.SparkSession at 0x7f13dab39db0>"
      ]
     },
     "execution_count": 2,
     "metadata": {},
     "output_type": "execute_result"
    }
   ],
   "source": [
    "spark"
   ]
  },
  {
   "cell_type": "code",
   "execution_count": 31,
   "id": "2677f558-d82b-46b9-bd32-72f77f88bb4c",
   "metadata": {},
   "outputs": [
    {
     "name": "stdout",
     "output_type": "stream",
     "text": [
      "Path RAW: s3a://raw/olhovivo/linha/buscar/\n",
      "Path TRUSTED: s3a://trusted/olhovivo/linha/buscar/\n"
     ]
    }
   ],
   "source": [
    "date = datetime.datetime.today()\n",
    "d = date.astimezone(pytz.timezone('America/Sao_Paulo'))\n",
    "d.strftime('%Y-%m-%d')\n",
    "path_raw = 's3a://raw/olhovivo/linha/buscar/'#{}/'.format(d.strftime('%Y-%m-%d'))\n",
    "path_trusted = 's3a://trusted/olhovivo/linha/buscar/'#{}/'#.format(d.strftime('%Y-%m-%d'))"
   ]
  },
  {
   "cell_type": "code",
   "execution_count": 33,
   "id": "1680763f-f6ca-4f16-adee-838bd2e69e8d",
   "metadata": {},
   "outputs": [
    {
     "name": "stdout",
     "output_type": "stream",
     "text": [
      "Path RAW    : s3a://raw/olhovivo/linha/buscar/\n",
      "Path TRUSTED: s3a://trusted/olhovivo/linha/buscar/\n"
     ]
    }
   ],
   "source": [
    "print(f\"Path RAW: {path_raw}\")\n",
    "print(f\"Path TRUSTED: {path_trusted}\")"
   ]
  },
  {
   "cell_type": "code",
   "execution_count": 54,
   "id": "d434bbbf-a9a6-4428-8807-c8de4c030819",
   "metadata": {},
   "outputs": [
    {
     "name": "stdout",
     "output_type": "stream",
     "text": [
      "+-----+-----+----+---+---+--------------------+------------+\n",
      "|   cl|   lc|  lt| sl| tl|                  tp|          ts|\n",
      "+-----+-----+----+---+---+--------------------+------------+\n",
      "| 2506|false|8000|  1|  1|PÇA. RAMOS DE AZE...|  TERM. LAPA|\n",
      "|35274|false|8000|  2|  1|PÇA. RAMOS DE AZE...|  TERM. LAPA|\n",
      "| 1273|false|8000|  1| 10|PÇA. RAMOS DE AZE...|  TERM. LAPA|\n",
      "|34041|false|8000|  2| 10|PÇA. RAMOS DE AZE...|  TERM. LAPA|\n",
      "|  798|false|8010|  1| 10|                LAPA|       PERUS|\n",
      "|33566|false|8010|  2| 10|                LAPA|       PERUS|\n",
      "| 1737| true|8010|  1| 21|     SÍTIO BOTUQUARA|  CPTM PERUS|\n",
      "|34505| true|8010|  2| 21|     SÍTIO BOTUQUARA|  CPTM PERUS|\n",
      "| 2562|false|8030|  1| 10|     TERM. VL. SÔNIA|PARAISÓPOLIS|\n",
      "|35330|false|8030|  2| 10|     TERM. VL. SÔNIA|PARAISÓPOLIS|\n",
      "| 1726| true|8020|  1| 10|       SHOP. MORUMBI|     BUTANTÃ|\n",
      "|34494| true|8020|  2| 10|       SHOP. MORUMBI|     BUTANTÃ|\n",
      "| 1726| true|8020|  1| 10|       SHOP. MORUMBI|     BUTANTÃ|\n",
      "|34494| true|8020|  2| 10|       SHOP. MORUMBI|     BUTANTÃ|\n",
      "| 1726| true|8020|  1| 10|       SHOP. MORUMBI|     BUTANTÃ|\n",
      "|34494| true|8020|  2| 10|       SHOP. MORUMBI|     BUTANTÃ|\n",
      "| 1726| true|8020|  1| 10|       SHOP. MORUMBI|     BUTANTÃ|\n",
      "|34494| true|8020|  2| 10|       SHOP. MORUMBI|     BUTANTÃ|\n",
      "| 1726| true|8020|  1| 10|       SHOP. MORUMBI|     BUTANTÃ|\n",
      "|34494| true|8020|  2| 10|       SHOP. MORUMBI|     BUTANTÃ|\n",
      "| 1726| true|8020|  1| 10|       SHOP. MORUMBI|     BUTANTÃ|\n",
      "|34494| true|8020|  2| 10|       SHOP. MORUMBI|     BUTANTÃ|\n",
      "| 1726| true|8020|  1| 10|       SHOP. MORUMBI|     BUTANTÃ|\n",
      "|34494| true|8020|  2| 10|       SHOP. MORUMBI|     BUTANTÃ|\n",
      "|  418|false|8060|  1| 10|          TERM. LAPA|   VL. PIAUÍ|\n",
      "|33186|false|8060|  2| 10|          TERM. LAPA|   VL. PIAUÍ|\n",
      "+-----+-----+----+---+---+--------------------+------------+\n",
      "\n"
     ]
    }
   ],
   "source": [
    "df_raw = spark.read.json(path_raw)\n",
    "df_raw.show(1000)"
   ]
  },
  {
   "cell_type": "code",
   "execution_count": 37,
   "id": "a64043e8-23c5-457c-9308-8c3d4a76d7d5",
   "metadata": {},
   "outputs": [
    {
     "name": "stdout",
     "output_type": "stream",
     "text": [
      "root\n",
      " |-- cl: long (nullable = true)\n",
      " |-- lc: boolean (nullable = true)\n",
      " |-- lt: string (nullable = true)\n",
      " |-- sl: long (nullable = true)\n",
      " |-- tl: long (nullable = true)\n",
      " |-- tp: string (nullable = true)\n",
      " |-- ts: string (nullable = true)\n",
      "\n"
     ]
    }
   ],
   "source": [
    "df_raw.printSchema()"
   ]
  },
  {
   "cell_type": "code",
   "execution_count": 55,
   "id": "3933b26b-8cb6-4b60-b0b7-a3d150e0e4af",
   "metadata": {},
   "outputs": [
    {
     "name": "stdout",
     "output_type": "stream",
     "text": [
      "+-----+-----+\n",
      "|   cl|   lc|\n",
      "+-----+-----+\n",
      "| 2506|false|\n",
      "|35274|false|\n",
      "| 1273|false|\n",
      "|34041|false|\n",
      "|  798|false|\n",
      "|33566|false|\n",
      "| 1737| true|\n",
      "|34505| true|\n",
      "| 2562|false|\n",
      "|35330|false|\n",
      "| 1726| true|\n",
      "|34494| true|\n",
      "| 1726| true|\n",
      "|34494| true|\n",
      "| 1726| true|\n",
      "|34494| true|\n",
      "| 1726| true|\n",
      "|34494| true|\n",
      "| 1726| true|\n",
      "|34494| true|\n",
      "+-----+-----+\n",
      "only showing top 20 rows\n",
      "\n"
     ]
    }
   ],
   "source": [
    "df_merge = (\n",
    "    df_raw.select('cl','lc')\n",
    ")\n",
    "df_merge.show()"
   ]
  },
  {
   "cell_type": "code",
   "execution_count": 56,
   "id": "787ef93b-e5f5-48d5-9807-b37f76b05f49",
   "metadata": {},
   "outputs": [
    {
     "name": "stdout",
     "output_type": "stream",
     "text": [
      "26\n"
     ]
    }
   ],
   "source": [
    "total_records = df_merge.count()\n",
    "print(total_records)"
   ]
  },
  {
   "cell_type": "code",
   "execution_count": null,
   "id": "6849429e-1820-482d-b3da-427d89f3e2c8",
   "metadata": {},
   "outputs": [],
   "source": [
    "#df_merge.write.format('delta').mode('append').save(path_trusted)"
   ]
  },
  {
   "cell_type": "code",
   "execution_count": 57,
   "id": "71f2e95c-5416-4001-bbbc-29216ee6ec8e",
   "metadata": {},
   "outputs": [
    {
     "name": "stdout",
     "output_type": "stream",
     "text": [
      "MERGE executado com sucesso.\n"
     ]
    }
   ],
   "source": [
    "# Deduplicate the source DataFrame\n",
    "df_deduplicated = df_merge.select('cl', 'lc').dropDuplicates(['cl'])\n",
    "#df_deduplicated.cache()\n",
    "#df_deduplicated.count()  # This will force the deduplication to be computed\n",
    "\n",
    "if not DeltaTable.isDeltaTable(spark, path_trusted):\n",
    "    df_deduplicated.write.format('delta').mode('append').save(path_trusted)\n",
    "    print('TRUSTED criado com sucesso.')\n",
    "else:\n",
    "    delta_table = DeltaTable.forPath(spark, path_trusted)\n",
    "    delta_table.alias('trusted') \\\n",
    "    .merge(\n",
    "            df_deduplicated.alias('raw'), 'trusted.cl = raw.cl'\n",
    "    ) \\\n",
    "    .whenMatchedUpdate(set = {\n",
    "        'trusted.lc':col('raw.lc')\n",
    "    }) \\\n",
    "    .whenNotMatchedInsert(values = {\n",
    "        'trusted.cl':col('raw.cl'),\n",
    "        'trusted.lc':col('raw.lc')\n",
    "    }) \\\n",
    "    .execute()\n",
    "    print('MERGE executado com sucesso.')"
   ]
  },
  {
   "cell_type": "code",
   "execution_count": 59,
   "id": "af259136-0de4-4187-84d1-fd5ae001097f",
   "metadata": {},
   "outputs": [
    {
     "name": "stdout",
     "output_type": "stream",
     "text": [
      "+-----+-----+\n",
      "|   cl|   lc|\n",
      "+-----+-----+\n",
      "| 2506|false|\n",
      "|35274|false|\n",
      "| 1273|false|\n",
      "|34041|false|\n",
      "|  798|false|\n",
      "|33566|false|\n",
      "| 1737| true|\n",
      "|34505| true|\n",
      "| 2562|false|\n",
      "|35330|false|\n",
      "| 1726| true|\n",
      "|34494| true|\n",
      "| 1726| true|\n",
      "|34494| true|\n",
      "| 1726| true|\n",
      "|34494| true|\n",
      "| 1726| true|\n",
      "|34494| true|\n",
      "| 1726| true|\n",
      "|34494| true|\n",
      "| 1726| true|\n",
      "|34494| true|\n",
      "| 1726| true|\n",
      "|34494| true|\n",
      "|  418|false|\n",
      "|33186|false|\n",
      "+-----+-----+\n",
      "\n",
      "+-----+-----+\n",
      "|   cl|   lc|\n",
      "+-----+-----+\n",
      "| 1737| true|\n",
      "|33566|false|\n",
      "| 2562|false|\n",
      "| 1273|false|\n",
      "| 2506|false|\n",
      "|35274|false|\n",
      "|34505| true|\n",
      "|34041|false|\n",
      "|  798|false|\n",
      "|35330|false|\n",
      "|34494| true|\n",
      "| 1726| true|\n",
      "|  418|false|\n",
      "|33186|false|\n",
      "+-----+-----+\n",
      "\n"
     ]
    }
   ],
   "source": [
    "df_merge.show(1000)\n",
    "df_deduplicated.show(1000)"
   ]
  },
  {
   "cell_type": "code",
   "execution_count": 60,
   "id": "89577aac-7fa9-446e-9819-33e45c670c24",
   "metadata": {},
   "outputs": [
    {
     "name": "stdout",
     "output_type": "stream",
     "text": [
      "14\n"
     ]
    }
   ],
   "source": [
    "print(delta_table.toDF().count())"
   ]
  },
  {
   "cell_type": "code",
   "execution_count": 62,
   "id": "a83b7f4e-0173-443f-ae2d-ba206bcc137a",
   "metadata": {},
   "outputs": [
    {
     "name": "stdout",
     "output_type": "stream",
     "text": [
      "+-----+-----+\n",
      "|   cl|   lc|\n",
      "+-----+-----+\n",
      "|  418|false|\n",
      "|  798|false|\n",
      "| 1273|false|\n",
      "| 1726| true|\n",
      "| 1737| true|\n",
      "| 2506|false|\n",
      "| 2562|false|\n",
      "|33186|false|\n",
      "|33566|false|\n",
      "|34041|false|\n",
      "|34494| true|\n",
      "|34505| true|\n",
      "|35274|false|\n",
      "|35330|false|\n",
      "+-----+-----+\n",
      "\n"
     ]
    }
   ],
   "source": [
    "#df_trusted = spark.read.parquet(path_trusted)\n",
    "df_trusted = spark.read.format('delta').load(path_trusted)\n",
    "#df_trusted.printSchema()\n",
    "df_trusted.show(1000)\n",
    "\n"
   ]
  },
  {
   "cell_type": "code",
   "execution_count": null,
   "id": "f438aec4-bf91-4004-8ecf-e32a805ea68b",
   "metadata": {},
   "outputs": [],
   "source": []
  }
 ],
 "metadata": {
  "kernelspec": {
   "display_name": "Python 3 (ipykernel)",
   "language": "python",
   "name": "python3"
  },
  "language_info": {
   "codemirror_mode": {
    "name": "ipython",
    "version": 3
   },
   "file_extension": ".py",
   "mimetype": "text/x-python",
   "name": "python",
   "nbconvert_exporter": "python",
   "pygments_lexer": "ipython3",
   "version": "3.10.8"
  }
 },
 "nbformat": 4,
 "nbformat_minor": 5
}
