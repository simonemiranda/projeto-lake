{
 "cells": [
  {
   "cell_type": "code",
   "execution_count": 5,
   "id": "9540385e-071f-4b4e-800f-9e5c416b48a2",
   "metadata": {},
   "outputs": [
    {
     "name": "stdout",
     "output_type": "stream",
     "text": [
      "Autenticando olhovivo\n",
      "Buscando linhas\n",
      "Ingestão kafka\n",
      "Message sent to topic 'api.user': [{\"cl\": 2562, \"lc\": false, \"lt\": \"8030\", \"sl\": 1, \"tl\": 10, \"tp\": \"TERM. VL. S\\u00d4NIA\", \"ts\": \"PARAIS\\u00d3POLIS\"}, {\"cl\": 35330, \"lc\": false, \"lt\": \"8030\", \"sl\": 2, \"tl\": 10, \"tp\": \"TERM. VL. S\\u00d4NIA\", \"ts\": \"PARAIS\\u00d3POLIS\"}]\n"
     ]
    }
   ],
   "source": [
    "import requests\n",
    "import os\n",
    "import io\n",
    "import json\n",
    "from datetime import datetime\n",
    "from confluent_kafka import Producer, Consumer, KafkaException\n",
    "from minio import Minio\n",
    "import uuid\n",
    "\n",
    "def autenticarOlhoVivo():\n",
    "    apikey = \"{inserir seu token aqui}\" #\"876r590t4bed4dccbjnnaj9dbebfhbhvbdjndjjdnfj\" #INSERIR TOKEN CRIADO\n",
    "    url = 'https://api.olhovivo.sptrans.com.br/v2.1/Login/Autenticar?token=' + apikey\n",
    "\n",
    "    payload = {}\n",
    "    headers = {}\n",
    "\n",
    "    response = requests.request(\"POST\", url, headers=headers, data=payload)\n",
    "    get_cookie = response.cookies\n",
    "    cookie = get_cookie.get(\"apiCredentials\")\n",
    "    print(\"Autenticando olhovivo\")\n",
    "    return cookie\n",
    "\n",
    "def linhasBuscar(cookie):\n",
    "    url = \"https://api.olhovivo.sptrans.com.br/v2.1/Linha/Buscar?termosBusca=8030\"\n",
    "    payload = {}\n",
    "    headers = {'Cookie': 'apiCredentials=' + cookie}\n",
    "    response = requests.request(\"GET\", url, headers=headers)\n",
    "    print(\"Buscando linhas\")\n",
    "    return response.json()\n",
    "\n",
    "def ingestaoKafka(data):\n",
    "    print(\"Ingestão kafka\")\n",
    "    broker = 'kafka-broker:9092'\n",
    "    topic = 'api.user'\n",
    "    producer = Producer({\n",
    "    'bootstrap.servers' : broker,\n",
    "    })\n",
    "    producer.produce(topic, json.dumps(data))\n",
    "    producer.flush()\n",
    "    print(f\"Message sent to topic '{topic}': {json.dumps(data)}\")\n",
    "    \n",
    "def workflow():\n",
    "    cookie = autenticarOlhoVivo()\n",
    "    data = linhasBuscar(cookie)  \n",
    "    ingestaoKafka(data)\n",
    "\n",
    "workflow()"
   ]
  },
  {
   "cell_type": "code",
   "execution_count": null,
   "id": "fbaa5499-4c54-46ad-88fb-aadc99a89a03",
   "metadata": {},
   "outputs": [],
   "source": []
  }
 ],
 "metadata": {
  "kernelspec": {
   "display_name": "Python 3 (ipykernel)",
   "language": "python",
   "name": "python3"
  },
  "language_info": {
   "codemirror_mode": {
    "name": "ipython",
    "version": 3
   },
   "file_extension": ".py",
   "mimetype": "text/x-python",
   "name": "python",
   "nbconvert_exporter": "python",
   "pygments_lexer": "ipython3",
   "version": "3.10.8"
  }
 },
 "nbformat": 4,
 "nbformat_minor": 5
}
